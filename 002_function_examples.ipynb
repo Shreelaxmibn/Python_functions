{
 "cells": [
  {
   "cell_type": "code",
   "execution_count": null,
   "id": "ef0f2d93",
   "metadata": {},
   "outputs": [],
   "source": []
  },
  {
   "cell_type": "code",
   "execution_count": null,
   "id": "b7c63236",
   "metadata": {},
   "outputs": [],
   "source": []
  },
  {
   "cell_type": "code",
   "execution_count": 1,
   "id": "af76ae15",
   "metadata": {},
   "outputs": [
    {
     "name": "stdout",
     "output_type": "stream",
     "text": [
      "Hello, world!\n"
     ]
    }
   ],
   "source": [
    "# This is a basic function that prints a greeting.\n",
    "def greet():\n",
    "    print(\"Hello, world!\")\n",
    "\n",
    "# Usage example\n",
    "greet()  # Calls the function to print the greeting\n"
   ]
  },
  {
   "cell_type": "code",
   "execution_count": 2,
   "id": "3113142b",
   "metadata": {},
   "outputs": [
    {
     "name": "stdout",
     "output_type": "stream",
     "text": [
      "Sum: 8\n"
     ]
    }
   ],
   "source": [
    "# This function calculates the sum of two numbers.\n",
    "def add_numbers(a, b):\n",
    "    result = a + b\n",
    "    return result\n",
    "\n",
    "# Usage example\n",
    "sum_result = add_numbers(5, 3)  # Calls the function with arguments 5 and 3\n",
    "print(\"Sum:\", sum_result)       # Prints the result: Sum: 8\n"
   ]
  },
  {
   "cell_type": "code",
   "execution_count": 3,
   "id": "846b0e18",
   "metadata": {},
   "outputs": [
    {
     "name": "stdout",
     "output_type": "stream",
     "text": [
      "Area 1: 4\n",
      "Area 2: 15\n"
     ]
    }
   ],
   "source": [
    "# This function calculates the area of a rectangle.\n",
    "# It has default values for length and width.\n",
    "def calculate_rectangle_area(length=2, width=2):\n",
    "    area = length * width\n",
    "    return area\n",
    "\n",
    "# Usage examples\n",
    "area1 = calculate_rectangle_area()       # Uses default values\n",
    "area2 = calculate_rectangle_area(5, 3)  # Overrides default values\n",
    "print(\"Area 1:\", area1)                 # Prints the result: Area 1: 4\n",
    "print(\"Area 2:\", area2)                 # Prints the result: Area 2: 15\n"
   ]
  },
  {
   "cell_type": "code",
   "execution_count": 4,
   "id": "23d95ea3",
   "metadata": {},
   "outputs": [
    {
     "name": "stdout",
     "output_type": "stream",
     "text": [
      "Factorial: 120\n"
     ]
    }
   ],
   "source": [
    "# This recursive function calculates the factorial of a number.\n",
    "def factorial(n):\n",
    "    if n == 0:\n",
    "        return 1\n",
    "    else:\n",
    "        return n * factorial(n - 1)\n",
    "\n",
    "# Usage example\n",
    "result = factorial(5)  # Calculates 5!\n",
    "print(\"Factorial:\", result)  # Prints the result: Factorial: 120\n"
   ]
  },
  {
   "cell_type": "code",
   "execution_count": 6,
   "id": "5171ffd0",
   "metadata": {},
   "outputs": [
    {
     "name": "stdout",
     "output_type": "stream",
     "text": [
      "Square: 16\n"
     ]
    }
   ],
   "source": [
    "# This is a lambda function that calculates the square of a number.\n",
    "square = lambda x: x**2\n",
    "\n",
    "# Usage example\n",
    "result = square(4)  # Calculates the square of 4\n",
    "print(\"Square:\", result)  # Prints the result: Square: 16\n"
   ]
  },
  {
   "cell_type": "code",
   "execution_count": 7,
   "id": "31b649ca",
   "metadata": {},
   "outputs": [
    {
     "name": "stdout",
     "output_type": "stream",
     "text": [
      "Sum 1: 6\n",
      "Sum 2: 100\n"
     ]
    }
   ],
   "source": [
    "# This function takes a variable number of arguments and calculates their sum.\n",
    "def calculate_sum(*args):\n",
    "    total = sum(args)\n",
    "    return total\n",
    "\n",
    "# Usage examples\n",
    "sum1 = calculate_sum(1, 2, 3)          # Calculates the sum of 1, 2, and 3\n",
    "sum2 = calculate_sum(10, 20, 30, 40)  # Calculates the sum of 10, 20, 30, and 40\n",
    "print(\"Sum 1:\", sum1)                  # Prints the result: Sum 1: 6\n",
    "print(\"Sum 2:\", sum2)                  # Prints the result: Sum 2: 100\n"
   ]
  },
  {
   "cell_type": "code",
   "execution_count": 8,
   "id": "2dbf4ec6",
   "metadata": {},
   "outputs": [
    {
     "name": "stdout",
     "output_type": "stream",
     "text": [
      "Number is: Odd\n"
     ]
    }
   ],
   "source": [
    "# This function checks if a number is even or odd and returns a message.\n",
    "def even_or_odd(number):\n",
    "    if number % 2 == 0:\n",
    "        return \"Even\"\n",
    "    else:\n",
    "        return \"Odd\"\n",
    "\n",
    "# Call the function to check if a number is even or odd\n",
    "result = even_or_odd(7)\n",
    "print(\"Number is:\", result)\n"
   ]
  },
  {
   "cell_type": "code",
   "execution_count": 9,
   "id": "16b91a0d",
   "metadata": {},
   "outputs": [
    {
     "name": "stdout",
     "output_type": "stream",
     "text": [
      "Product: 24\n"
     ]
    }
   ],
   "source": [
    "# This function multiplies a list of numbers and returns the result.\n",
    "def multiply_numbers(numbers):\n",
    "    result = 1\n",
    "    for num in numbers:\n",
    "        result *= num\n",
    "    return result\n",
    "\n",
    "# Call the function to multiply a list of numbers\n",
    "numbers_to_multiply = [2, 3, 4]\n",
    "product = multiply_numbers(numbers_to_multiply)\n",
    "print(\"Product:\", product)\n"
   ]
  },
  {
   "cell_type": "code",
   "execution_count": null,
   "id": "aab528cc",
   "metadata": {},
   "outputs": [],
   "source": []
  }
 ],
 "metadata": {
  "kernelspec": {
   "display_name": "Python 3 (ipykernel)",
   "language": "python",
   "name": "python3"
  },
  "language_info": {
   "codemirror_mode": {
    "name": "ipython",
    "version": 3
   },
   "file_extension": ".py",
   "mimetype": "text/x-python",
   "name": "python",
   "nbconvert_exporter": "python",
   "pygments_lexer": "ipython3",
   "version": "3.9.13"
  }
 },
 "nbformat": 4,
 "nbformat_minor": 5
}
