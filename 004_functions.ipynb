{
 "cells": [
  {
   "cell_type": "markdown",
   "id": "7d7c3426",
   "metadata": {},
   "source": [
    "The def Keyword:\n",
    "\n",
    "In Python (and many other programming languages), the def keyword is used to define a function. It marks the beginning of a function definition and specifies the name of the function and its code block."
   ]
  },
  {
   "cell_type": "code",
   "execution_count": 2,
   "id": "10c865f4",
   "metadata": {},
   "outputs": [
    {
     "name": "stdout",
     "output_type": "stream",
     "text": [
      "Hello, world!\n"
     ]
    }
   ],
   "source": [
    "def greet():\n",
    "    print(\"Hello, world!\")\n",
    "\n",
    "# Function definition: \"greet\" is the function name.\n",
    "\n",
    "greet()"
   ]
  },
  {
   "cell_type": "code",
   "execution_count": 5,
   "id": "ac1c39b8",
   "metadata": {},
   "outputs": [
    {
     "name": "stdout",
     "output_type": "stream",
     "text": [
      "15\n"
     ]
    }
   ],
   "source": [
    "# User-defined function\n",
    "def calculate_sum(numbers):\n",
    "    total = sum(numbers)\n",
    "    return total\n",
    "\n",
    "result = calculate_sum([1, 2, 3, 4, 5])\n",
    "print(result)  # Output: 15"
   ]
  },
  {
   "cell_type": "code",
   "execution_count": 6,
   "id": "3ec6c4d2",
   "metadata": {},
   "outputs": [
    {
     "name": "stdout",
     "output_type": "stream",
     "text": [
      "120\n"
     ]
    }
   ],
   "source": [
    "def factorial(n):\n",
    "    if n == 0:\n",
    "        return 1\n",
    "    else:\n",
    "        return n * factorial(n - 1)\n",
    "\n",
    "result = factorial(5)\n",
    "print(result)  # Output: 120"
   ]
  },
  {
   "cell_type": "code",
   "execution_count": 7,
   "id": "5b612b4e",
   "metadata": {},
   "outputs": [
    {
     "name": "stdout",
     "output_type": "stream",
     "text": [
      "0 1 1 2 3 5 8 13 21 34 "
     ]
    }
   ],
   "source": [
    "def fibonacci():\n",
    "    a, b = 0, 1\n",
    "    while True:\n",
    "        yield a\n",
    "        a, b = b, a + b\n",
    "\n",
    "fib_gen = fibonacci()\n",
    "for _ in range(10):\n",
    "    print(next(fib_gen), end=\" \")  # Output: 0 1 1 2 3 5 8 13 21 34"
   ]
  },
  {
   "cell_type": "code",
   "execution_count": 8,
   "id": "c13a6aa1",
   "metadata": {},
   "outputs": [
    {
     "name": "stdout",
     "output_type": "stream",
     "text": [
      "7\n"
     ]
    }
   ],
   "source": [
    "def apply_operation(func, x, y):\n",
    "    return func(x, y)\n",
    "\n",
    "def add(a, b):\n",
    "    return a + b\n",
    "\n",
    "result = apply_operation(add, 3, 4)\n",
    "print(result)  # Output: 7"
   ]
  },
  {
   "cell_type": "code",
   "execution_count": 10,
   "id": "2ee2b904",
   "metadata": {},
   "outputs": [
    {
     "name": "stdout",
     "output_type": "stream",
     "text": [
      "Hello, Alice!\n"
     ]
    }
   ],
   "source": [
    "# Function with parameters\n",
    "def greet_user(name):\n",
    "    print(f\"Hello, {name}!\")\n",
    "\n",
    "# Calling the function with an argument\n",
    "greet_user(\"Alice\")  # Output: Hello, Alice!"
   ]
  },
  {
   "cell_type": "code",
   "execution_count": 11,
   "id": "04ed5f1d",
   "metadata": {},
   "outputs": [
    {
     "name": "stdout",
     "output_type": "stream",
     "text": [
      "Hello, Guest!\n",
      "Hello, Alice!\n"
     ]
    }
   ],
   "source": [
    "# Function with default parameter value\n",
    "def greet_user(name=\"Guest\"):\n",
    "    print(f\"Hello, {name}!\")\n",
    "\n",
    "# Calling the function with and without an argument\n",
    "greet_user()       # Output: Hello, Guest!\n",
    "greet_user(\"Alice\")  # Output: Hello, Alice!"
   ]
  },
  {
   "cell_type": "code",
   "execution_count": 12,
   "id": "e501245c",
   "metadata": {},
   "outputs": [
    {
     "name": "stdout",
     "output_type": "stream",
     "text": [
      "8\n"
     ]
    }
   ],
   "source": [
    "# Function with multiple parameters\n",
    "def add_numbers(a, b):\n",
    "    result = a + b\n",
    "    return result\n",
    "\n",
    "# Calling the function with multiple arguments\n",
    "sum_result = add_numbers(3, 5)\n",
    "print(sum_result)  # Output: 8"
   ]
  },
  {
   "cell_type": "code",
   "execution_count": 13,
   "id": "c0261e71",
   "metadata": {},
   "outputs": [
    {
     "name": "stdout",
     "output_type": "stream",
     "text": [
      "Hello, John Doe!\n"
     ]
    }
   ],
   "source": [
    "# Function with keyword arguments\n",
    "def greet_person(first_name, last_name):\n",
    "    print(f\"Hello, {first_name} {last_name}!\")\n",
    "\n",
    "# Calling the function with keyword arguments\n",
    "greet_person(first_name=\"John\", last_name=\"Doe\")  # Output: Hello, John Doe!"
   ]
  },
  {
   "cell_type": "code",
   "execution_count": 14,
   "id": "661f7c1f",
   "metadata": {},
   "outputs": [
    {
     "name": "stdout",
     "output_type": "stream",
     "text": [
      "6\n",
      "15\n"
     ]
    }
   ],
   "source": [
    "# Function with variable number of arguments using *args\n",
    "def calculate_sum(*args):\n",
    "    total = sum(args)\n",
    "    return total\n",
    "\n",
    "# Calling the function with different numbers of arguments\n",
    "result1 = calculate_sum(1, 2, 3)\n",
    "result2 = calculate_sum(1, 2, 3, 4, 5)\n",
    "print(result1)  # Output: 6\n",
    "print(result2)  # Output: 15"
   ]
  },
  {
   "cell_type": "code",
   "execution_count": 15,
   "id": "e3b1cfe7",
   "metadata": {},
   "outputs": [
    {
     "name": "stdout",
     "output_type": "stream",
     "text": [
      "first_name: Alice\n",
      "last_name: Johnson\n",
      "age: 30\n"
     ]
    }
   ],
   "source": [
    "# Function with variable number of keyword arguments using **kwargs\n",
    "def print_person_info(**kwargs):\n",
    "    for key, value in kwargs.items():\n",
    "        print(f\"{key}: {value}\")\n",
    "\n",
    "# Calling the function with keyword arguments\n",
    "print_person_info(first_name=\"Alice\", last_name=\"Johnson\", age=30)\n",
    "# Output:\n",
    "# first_name: Alice\n",
    "# last_name: Johnson\n",
    "# age: 30"
   ]
  },
  {
   "cell_type": "code",
   "execution_count": 16,
   "id": "5f514b47",
   "metadata": {},
   "outputs": [
    {
     "name": "stdout",
     "output_type": "stream",
     "text": [
      "25\n"
     ]
    }
   ],
   "source": [
    "# Function that returns a value\n",
    "def square(number):\n",
    "    result = number ** 2\n",
    "    return result\n",
    "\n",
    "# Calling the function and using the returned value\n",
    "result = square(5)\n",
    "print(result)  # Output: 25"
   ]
  },
  {
   "cell_type": "code",
   "execution_count": 17,
   "id": "35432661",
   "metadata": {},
   "outputs": [
    {
     "name": "stdout",
     "output_type": "stream",
     "text": [
      "Hello, Bob!\n"
     ]
    }
   ],
   "source": [
    "# Function calling another function\n",
    "def greet_user(name):\n",
    "    return f\"Hello, {name}!\"\n",
    "\n",
    "def greet_and_print(name):\n",
    "    greeting = greet_user(name)\n",
    "    print(greeting)\n",
    "\n",
    "# Calling the function\n",
    "greet_and_print(\"Bob\")  # Output: Hello, Bob!"
   ]
  },
  {
   "cell_type": "code",
   "execution_count": null,
   "id": "11a88336",
   "metadata": {},
   "outputs": [],
   "source": []
  }
 ],
 "metadata": {
  "kernelspec": {
   "display_name": "Python 3 (ipykernel)",
   "language": "python",
   "name": "python3"
  },
  "language_info": {
   "codemirror_mode": {
    "name": "ipython",
    "version": 3
   },
   "file_extension": ".py",
   "mimetype": "text/x-python",
   "name": "python",
   "nbconvert_exporter": "python",
   "pygments_lexer": "ipython3",
   "version": "3.9.13"
  }
 },
 "nbformat": 4,
 "nbformat_minor": 5
}
