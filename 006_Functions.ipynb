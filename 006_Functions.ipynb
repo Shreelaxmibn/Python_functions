{
 "cells": [
  {
   "cell_type": "markdown",
   "id": "586909e4",
   "metadata": {},
   "source": [
    "# Local vs. Global Variables:"
   ]
  },
  {
   "cell_type": "markdown",
   "id": "ef9a953b",
   "metadata": {},
   "source": [
    "Local Variables:\n",
    "\n",
    "Scope: Local variables are defined within a specific function or block of code. They are only accessible within the scope of that function or block.\n",
    "\n",
    "Visibility: Local variables are only visible and accessible within the function or block where they are defined. They are not accessible from other functions or blocks.\n",
    "\n",
    "Lifetime: Local variables have a limited lifetime. They are created when the function or block is entered and destroyed when the function or block exits. They do not persist beyond the function's execution.\n",
    "\n",
    "Access and Modification: Local variables can be accessed and modified only within the function or block in which they are defined. They do not affect variables with the same name in other functions or the global scope.\n",
    "\n",
    "Usage: Local variables are typically used for storing temporary data or intermediate results within a specific function. They help encapsulate data within the function's scope.\n",
    "\n",
    "Global Variables:\n",
    "\n",
    "Scope: Global variables are defined outside of any function or block of code. They have a global scope and can be accessed from anywhere in the code.\n",
    "\n",
    "Visibility: Global variables are visible and accessible from any part of the code, both inside and outside functions. However, if a local variable with the same name exists within a function, it will shadow (take precedence over) the global variable within that function.\n",
    "\n",
    "Lifetime: Global variables persist throughout the entire program's execution. They are created when the program starts and exist until the program terminates.\n",
    "\n",
    "Access and Modification: Global variables can be accessed and modified from anywhere in the code. Changes made to global variables are reflected in all parts of the code.\n",
    "\n",
    "Usage: Global variables are used for data that needs to be shared and accessed across multiple functions or parts of the code. They provide a way to maintain state or configuration information that is relevant to the entire program."
   ]
  },
  {
   "cell_type": "markdown",
   "id": "f2955e6f",
   "metadata": {},
   "source": [
    "Local Variables: These are variables defined within a specific function and are only accessible within that function's scope"
   ]
  },
  {
   "cell_type": "code",
   "execution_count": 1,
   "id": "3f7c8f8d",
   "metadata": {},
   "outputs": [
    {
     "name": "stdout",
     "output_type": "stream",
     "text": [
      "10\n"
     ]
    }
   ],
   "source": [
    "def local_example():\n",
    "    x = 10  # Local variable\n",
    "    print(x)\n",
    "\n",
    "local_example()  # Output: 10\n",
    "# x is not accessible here"
   ]
  },
  {
   "cell_type": "code",
   "execution_count": 8,
   "id": "a5d2a517",
   "metadata": {},
   "outputs": [
    {
     "name": "stdout",
     "output_type": "stream",
     "text": [
      "42\n"
     ]
    }
   ],
   "source": [
    "#Simple Local Variable\n",
    "def example_function():\n",
    "    local_var = 42  # A local variable\n",
    "    print(local_var)\n",
    "\n",
    "example_function()  # Output: 42\n",
    "# Attempting to access local_var outside the function will result in a NameError."
   ]
  },
  {
   "cell_type": "code",
   "execution_count": 9,
   "id": "f7113761",
   "metadata": {},
   "outputs": [
    {
     "name": "stdout",
     "output_type": "stream",
     "text": [
      "5\n",
      "10\n"
     ]
    }
   ],
   "source": [
    "#Local Variable Shadowing\n",
    "x = 10  # A global variable\n",
    "\n",
    "def shadow_example():\n",
    "    x = 5  # A local variable with the same name as the global variable\n",
    "    print(x)  # This prints the local variable\n",
    "\n",
    "shadow_example()\n",
    "print(x)  # Output: 10 (Global variable is not affected)"
   ]
  },
  {
   "cell_type": "code",
   "execution_count": 10,
   "id": "d46179c0",
   "metadata": {},
   "outputs": [
    {
     "name": "stdout",
     "output_type": "stream",
     "text": [
      "20\n"
     ]
    }
   ],
   "source": [
    "# Function Parameter as a Local Variable\n",
    "def multiply(a, b):\n",
    "    result = a * b  # result is a local variable\n",
    "    return result\n",
    "\n",
    "product = multiply(4, 5)\n",
    "print(product)  # Output: 20\n",
    "# The 'result' variable is local to the 'multiply' function."
   ]
  },
  {
   "cell_type": "code",
   "execution_count": 12,
   "id": "1312766d",
   "metadata": {},
   "outputs": [
    {
     "name": "stdout",
     "output_type": "stream",
     "text": [
      "I'm in inner function\n",
      "I'm in outer function\n"
     ]
    }
   ],
   "source": [
    "#Local Variables Within Nested Functions\n",
    "def outer_function():\n",
    "    outer_var = \"I'm in outer function\"\n",
    "\n",
    "    def inner_function():\n",
    "        inner_var = \"I'm in inner function\"\n",
    "        print(inner_var)\n",
    "\n",
    "    inner_function()\n",
    "    print(outer_var)\n",
    "\n",
    "outer_function()"
   ]
  },
  {
   "cell_type": "code",
   "execution_count": 13,
   "id": "08465019",
   "metadata": {},
   "outputs": [
    {
     "name": "stdout",
     "output_type": "stream",
     "text": [
      "0\n",
      "1\n",
      "2\n"
     ]
    }
   ],
   "source": [
    "#Local Variables in Loop Blocks\n",
    "def loop_example():\n",
    "    for i in range(3):\n",
    "        loop_var = i  # Local variable within the loop block\n",
    "        print(loop_var)\n",
    "\n",
    "loop_example()"
   ]
  },
  {
   "cell_type": "markdown",
   "id": "dd5f77f7",
   "metadata": {},
   "source": [
    "Global Variables: These are variables defined outside of any function and can be accessed from any part of the code."
   ]
  },
  {
   "cell_type": "code",
   "execution_count": 14,
   "id": "6f542456",
   "metadata": {},
   "outputs": [
    {
     "name": "stdout",
     "output_type": "stream",
     "text": [
      "42\n"
     ]
    }
   ],
   "source": [
    "# simple global variable\n",
    "global_var = 42  # This is a global variable\n",
    "\n",
    "def print_global_var():\n",
    "    print(global_var)\n",
    "\n",
    "print_global_var()  # Output: 42\n",
    "# The 'global_var' is accessible inside the function because it's a global variable."
   ]
  },
  {
   "cell_type": "code",
   "execution_count": 2,
   "id": "5d0f3639",
   "metadata": {},
   "outputs": [
    {
     "name": "stdout",
     "output_type": "stream",
     "text": [
      "20\n"
     ]
    }
   ],
   "source": [
    "global_var = 20  # Global variable\n",
    "\n",
    "def global_example():\n",
    "    print(global_var)\n",
    "\n",
    "global_example()  # Output: 20"
   ]
  },
  {
   "cell_type": "code",
   "execution_count": 15,
   "id": "7a9a0b46",
   "metadata": {},
   "outputs": [
    {
     "name": "stdout",
     "output_type": "stream",
     "text": [
      "15\n"
     ]
    }
   ],
   "source": [
    "# modifying a global variable\n",
    "global_var = 10  # Global variable\n",
    "\n",
    "def modify_global():\n",
    "    global global_var\n",
    "    global_var += 5\n",
    "\n",
    "modify_global()\n",
    "print(global_var)  # Output: 15\n",
    "# The 'modify_global' function modifies the global variable 'global_var'."
   ]
  },
  {
   "cell_type": "code",
   "execution_count": null,
   "id": "aba07984",
   "metadata": {},
   "outputs": [],
   "source": []
  },
  {
   "cell_type": "markdown",
   "id": "cc86e384",
   "metadata": {},
   "source": [
    "The Global Keyword:\n",
    "\n",
    "The global keyword is used to indicate that a variable inside a function refers to the global variable of the same name"
   ]
  },
  {
   "cell_type": "code",
   "execution_count": 3,
   "id": "bfd5a89e",
   "metadata": {},
   "outputs": [
    {
     "name": "stdout",
     "output_type": "stream",
     "text": [
      "35\n"
     ]
    }
   ],
   "source": [
    "global_var = 30\n",
    "\n",
    "def modify_global():\n",
    "    global global_var  # Declare that we're using the global_var\n",
    "    global_var += 5\n",
    "\n",
    "modify_global()\n",
    "print(global_var)  # Output: 35"
   ]
  },
  {
   "cell_type": "code",
   "execution_count": 17,
   "id": "cbeb9a67",
   "metadata": {},
   "outputs": [
    {
     "name": "stdout",
     "output_type": "stream",
     "text": [
      "I'm in a class\n"
     ]
    }
   ],
   "source": [
    "class MyClass:\n",
    "    global_var = \"I'm in a class\"\n",
    "\n",
    "    def print_global_var(self):\n",
    "        print(self.global_var)\n",
    "\n",
    "obj = MyClass()\n",
    "obj.print_global_var()  # Output: \"I'm in a class\"\n",
    "# 'global_var' is a class-level variable accessible through instances of the class."
   ]
  },
  {
   "cell_type": "code",
   "execution_count": null,
   "id": "73bd6bf3",
   "metadata": {},
   "outputs": [],
   "source": []
  }
 ],
 "metadata": {
  "kernelspec": {
   "display_name": "Python 3 (ipykernel)",
   "language": "python",
   "name": "python3"
  },
  "language_info": {
   "codemirror_mode": {
    "name": "ipython",
    "version": 3
   },
   "file_extension": ".py",
   "mimetype": "text/x-python",
   "name": "python",
   "nbconvert_exporter": "python",
   "pygments_lexer": "ipython3",
   "version": "3.9.13"
  }
 },
 "nbformat": 4,
 "nbformat_minor": 5
}
