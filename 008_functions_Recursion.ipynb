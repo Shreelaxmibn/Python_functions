{
 "cells": [
  {
   "cell_type": "markdown",
   "id": "2e0acff2",
   "metadata": {},
   "source": [
    "#### Recursion\n",
    "Recursion is a programming technique in which a function calls itself in order to solve a problem. Recursive functions solve problems by breaking them down into smaller, similar subproblems. Each recursive call works on a smaller subproblem until a base case is reached, at which point the function returns a result. Recursion is often used to solve problems that can be naturally divided into smaller, similar subtasks."
   ]
  },
  {
   "cell_type": "code",
   "execution_count": 15,
   "id": "65b73d4e",
   "metadata": {},
   "outputs": [
    {
     "data": {
      "text/plain": [
       "120"
      ]
     },
     "execution_count": 15,
     "metadata": {},
     "output_type": "execute_result"
    }
   ],
   "source": [
    "# Factorial Calculation\n",
    "def factorial(n):\n",
    "    if n == 0:\n",
    "        return 1  # Base case\n",
    "    else:\n",
    "        return n * factorial(n - 1)  # Recursive call\n",
    "\n",
    "factorial(5) # Calculates 5!"
   ]
  },
  {
   "cell_type": "code",
   "execution_count": 14,
   "id": "22af6943",
   "metadata": {},
   "outputs": [
    {
     "data": {
      "text/plain": [
       "8"
      ]
     },
     "execution_count": 14,
     "metadata": {},
     "output_type": "execute_result"
    }
   ],
   "source": [
    "# fibonnacci series\n",
    "def fibonacci(n):\n",
    "    if n <= 0:\n",
    "        return 0  # Base case\n",
    "    elif n == 1:\n",
    "        return 1  # Base case\n",
    "    else:\n",
    "        return fibonacci(n - 1) + fibonacci(n - 2)  # Recursive call\n",
    "\n",
    "fibonacci(6)  # Calculates the 6th Fibonacci number (8)"
   ]
  },
  {
   "cell_type": "code",
   "execution_count": 7,
   "id": "d5cf8604",
   "metadata": {},
   "outputs": [
    {
     "data": {
      "text/plain": [
       "13"
      ]
     },
     "execution_count": 7,
     "metadata": {},
     "output_type": "execute_result"
    }
   ],
   "source": [
    "fibonacci(7)"
   ]
  },
  {
   "cell_type": "code",
   "execution_count": 8,
   "id": "c7a5ae80",
   "metadata": {},
   "outputs": [
    {
     "data": {
      "text/plain": [
       "21"
      ]
     },
     "execution_count": 8,
     "metadata": {},
     "output_type": "execute_result"
    }
   ],
   "source": [
    "fibonacci(8)"
   ]
  },
  {
   "cell_type": "code",
   "execution_count": 13,
   "id": "310b3fb5",
   "metadata": {},
   "outputs": [
    {
     "data": {
      "text/plain": [
       "15"
      ]
     },
     "execution_count": 13,
     "metadata": {},
     "output_type": "execute_result"
    }
   ],
   "source": [
    "# Sum of Integers from 1 to n\n",
    "def sum_of_integers(n):\n",
    "    if n == 1:\n",
    "        return 1  # Base case\n",
    "    else:\n",
    "        return n + sum_of_integers(n - 1)  # Recursive call\n",
    "sum_of_integers(5)  # Calculates the sum of integers from 1 to 5 (15)"
   ]
  },
  {
   "cell_type": "code",
   "execution_count": 10,
   "id": "ed078064",
   "metadata": {},
   "outputs": [
    {
     "data": {
      "text/plain": [
       "15"
      ]
     },
     "execution_count": 10,
     "metadata": {},
     "output_type": "execute_result"
    }
   ],
   "source": [
    "sum_of_integers(5)"
   ]
  },
  {
   "cell_type": "code",
   "execution_count": 12,
   "id": "28823ce8",
   "metadata": {},
   "outputs": [
    {
     "data": {
      "text/plain": [
       "8"
      ]
     },
     "execution_count": 12,
     "metadata": {},
     "output_type": "execute_result"
    }
   ],
   "source": [
    "# Exponentiation\n",
    "def power(base, exponent):\n",
    "    if exponent == 0:\n",
    "        return 1  # Base case\n",
    "    else:\n",
    "        return base * power(base, exponent - 1)  # Recursive call\n",
    "\n",
    "result = power(2, 3)  # Calculates 2^3 (8)\n",
    "power(2, 3)"
   ]
  },
  {
   "cell_type": "code",
   "execution_count": 17,
   "id": "01ba3dfd",
   "metadata": {},
   "outputs": [
    {
     "data": {
      "text/plain": [
       "2"
      ]
     },
     "execution_count": 17,
     "metadata": {},
     "output_type": "execute_result"
    }
   ],
   "source": [
    "# Binary Search\n",
    "def binary_search(arr, target, low, high):\n",
    "    if low > high:\n",
    "        return -1  # Base case: element not found\n",
    "    mid = (low + high) // 2\n",
    "    if arr[mid] == target:\n",
    "        return mid  # Base case: element found\n",
    "    elif arr[mid] < target:\n",
    "        return binary_search(arr, target, mid + 1, high)  # Recursive call\n",
    "    else:\n",
    "        return binary_search(arr, target, low, mid - 1)  # Recursive call\n",
    "\n",
    "binary_search([1, 2, 3, 4, 5], 3, 0, 4)  # Searches for 3 in the sorted list"
   ]
  },
  {
   "cell_type": "code",
   "execution_count": 19,
   "id": "ed7148da",
   "metadata": {},
   "outputs": [
    {
     "data": {
      "text/plain": [
       "6"
      ]
     },
     "execution_count": 19,
     "metadata": {},
     "output_type": "execute_result"
    }
   ],
   "source": [
    "# greatest common divisor\n",
    "\n",
    "def gcd(a, b):\n",
    "    if b == 0:\n",
    "        return a  # Base case\n",
    "    else:\n",
    "        return gcd(b, a % b)  # Recursive call\n",
    "\n",
    "gcd(48, 18)  # Calculates the GCD of 48 and 18 (6)"
   ]
  },
  {
   "cell_type": "code",
   "execution_count": 22,
   "id": "3f4226d7",
   "metadata": {},
   "outputs": [
    {
     "data": {
      "text/plain": [
       "12"
      ]
     },
     "execution_count": 22,
     "metadata": {},
     "output_type": "execute_result"
    }
   ],
   "source": [
    "def gcd(x,y):\n",
    "    if y ==0:\n",
    "        return x\n",
    "    else:\n",
    "        return gcd(y, x%y)\n",
    "gcd(12,48)    "
   ]
  },
  {
   "cell_type": "code",
   "execution_count": 20,
   "id": "a8dd54f5",
   "metadata": {},
   "outputs": [
    {
     "name": "stdout",
     "output_type": "stream",
     "text": [
      "Move disk 1 from A to C\n",
      "Move disk 2 from A to B\n",
      "Move disk 1 from C to B\n",
      "Move disk 3 from A to C\n",
      "Move disk 1 from B to A\n",
      "Move disk 2 from B to C\n",
      "Move disk 1 from A to C\n"
     ]
    }
   ],
   "source": [
    "# Tower of Hanoi\n",
    "def towers_of_hanoi(n, source, auxiliary, target):\n",
    "    if n == 1:\n",
    "        print(f\"Move disk 1 from {source} to {target}\")\n",
    "        return\n",
    "    towers_of_hanoi(n - 1, source, target, auxiliary)\n",
    "    print(f\"Move disk {n} from {source} to {target}\")\n",
    "    towers_of_hanoi(n - 1, auxiliary, source, target)\n",
    "\n",
    "towers_of_hanoi(3, 'A', 'B', 'C')  # Solves the Towers of Hanoi puzzle with 3 disks\n"
   ]
  },
  {
   "cell_type": "code",
   "execution_count": 24,
   "id": "a73eab1b",
   "metadata": {},
   "outputs": [
    {
     "data": {
      "text/plain": [
       "True"
      ]
     },
     "execution_count": 24,
     "metadata": {},
     "output_type": "execute_result"
    }
   ],
   "source": [
    "# Palindrome check\n",
    "def is_palindrome(s):\n",
    "    s = s.lower()  # Convert to lowercase for case-insensitive check\n",
    "    if len(s) <= 1:\n",
    "        return True  # Base case: single character or empty string is a palindrome\n",
    "    elif s[0] != s[-1]:\n",
    "        return False  # Base case: first and last characters don't match\n",
    "    else:\n",
    "        return is_palindrome(s[1:-1])  # Recursive call\n",
    "\n",
    "is_palindrome(\"racecar\")  # Checks if \"racecar\" is a palindrome (True)"
   ]
  },
  {
   "cell_type": "code",
   "execution_count": 25,
   "id": "d51e7b13",
   "metadata": {},
   "outputs": [
    {
     "name": "stdout",
     "output_type": "stream",
     "text": [
      "*****\n",
      "****\n",
      "***\n",
      "**\n",
      "*\n"
     ]
    }
   ],
   "source": [
    "# Print pattern\n",
    "def print_pattern(n):\n",
    "    if n == 0:\n",
    "        return  # Base case\n",
    "    print(\"*\" * n)  # Print n asterisks\n",
    "    print_pattern(n - 1)  # Recursive call\n",
    "\n",
    "print_pattern(5)  # Prints a pattern of asterisks"
   ]
  },
  {
   "cell_type": "code",
   "execution_count": 26,
   "id": "0ef44392",
   "metadata": {},
   "outputs": [
    {
     "data": {
      "text/plain": [
       "5"
      ]
     },
     "execution_count": 26,
     "metadata": {},
     "output_type": "execute_result"
    }
   ],
   "source": [
    "# counting digits in an integer\n",
    "\n",
    "def count_digits(n):\n",
    "    if n < 10:\n",
    "        return 1  # Base case: single-digit number\n",
    "    else:\n",
    "        return 1 + count_digits(n // 10)  # Recursive call\n",
    "\n",
    "count_digits(12345)  # Counts the digits in 12345 (5)"
   ]
  },
  {
   "cell_type": "code",
   "execution_count": 28,
   "id": "d1f0ff22",
   "metadata": {},
   "outputs": [
    {
     "data": {
      "text/plain": [
       "15"
      ]
     },
     "execution_count": 28,
     "metadata": {},
     "output_type": "execute_result"
    }
   ],
   "source": [
    "# sum of digits in an integer\n",
    "\n",
    "def sum_of_digits(n):\n",
    "    if n < 10:\n",
    "        return n  # Base case: single-digit number\n",
    "    else:\n",
    "        return n % 10 + sum_of_digits(n // 10)  # Recursive call\n",
    "\n",
    "sum_of_digits(12345)  # Calculates the sum of digits in 12345 (15)"
   ]
  },
  {
   "cell_type": "code",
   "execution_count": 29,
   "id": "8e6f12c4",
   "metadata": {},
   "outputs": [
    {
     "name": "stdout",
     "output_type": "stream",
     "text": [
      "5\n",
      "4\n",
      "3\n",
      "2\n",
      "1\n"
     ]
    }
   ],
   "source": [
    "# prints number in decending order\n",
    "\n",
    "def print_descending(n):\n",
    "    if n <= 0:\n",
    "        return  # Base case\n",
    "    print(n)  # Print the current number\n",
    "    print_descending(n - 1)  # Recursive call\n",
    "\n",
    "print_descending(5)  # Prints numbers in descending order (5, 4, 3, 2, 1)"
   ]
  },
  {
   "cell_type": "code",
   "execution_count": 30,
   "id": "7305483e",
   "metadata": {},
   "outputs": [
    {
     "name": "stdout",
     "output_type": "stream",
     "text": [
      "0\n",
      "1\n",
      "1\n",
      "2\n",
      "3\n"
     ]
    }
   ],
   "source": [
    "# print fibonacci series\n",
    "\n",
    "def fibonacci_series(n, a=0, b=1):\n",
    "    if n == 0:\n",
    "        return  # Base case\n",
    "    print(a)  # Print the current Fibonacci number\n",
    "    fibonacci_series(n - 1, b, a + b)  # Recursive call\n",
    "\n",
    "fibonacci_series(5)  # Prints the first 6 Fibonacci numbers (0, 1, 1, 2, 3, 5)"
   ]
  },
  {
   "cell_type": "code",
   "execution_count": 32,
   "id": "60a5749a",
   "metadata": {},
   "outputs": [
    {
     "data": {
      "text/plain": [
       "13"
      ]
     },
     "execution_count": 32,
     "metadata": {},
     "output_type": "execute_result"
    }
   ],
   "source": [
    "# Binary to decimal conversion\n",
    "def binary_to_decimal(binary_str):\n",
    "    if not binary_str:\n",
    "        return 0  # Base case: empty string\n",
    "    else:\n",
    "        return int(binary_str[-1]) + 2 * binary_to_decimal(binary_str[:-1])  # Recursive call\n",
    "\n",
    "binary_to_decimal(\"1101\")  # Converts binary \"1101\" to decimal (13)\n"
   ]
  },
  {
   "cell_type": "code",
   "execution_count": null,
   "id": "7933d28a",
   "metadata": {},
   "outputs": [],
   "source": []
  }
 ],
 "metadata": {
  "kernelspec": {
   "display_name": "Python 3 (ipykernel)",
   "language": "python",
   "name": "python3"
  },
  "language_info": {
   "codemirror_mode": {
    "name": "ipython",
    "version": 3
   },
   "file_extension": ".py",
   "mimetype": "text/x-python",
   "name": "python",
   "nbconvert_exporter": "python",
   "pygments_lexer": "ipython3",
   "version": "3.9.13"
  }
 },
 "nbformat": 4,
 "nbformat_minor": 5
}
