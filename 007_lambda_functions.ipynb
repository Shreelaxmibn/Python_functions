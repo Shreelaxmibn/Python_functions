{
 "cells": [
  {
   "cell_type": "markdown",
   "id": "0ea6826f",
   "metadata": {},
   "source": [
    "### Lambda Functions:\n",
    "\n",
    "Lambda functions, also known as anonymous functions or lambda expressions, are small, inline functions in Python that are defined without a name. They are typically used for simple, one-liner operations"
   ]
  },
  {
   "cell_type": "markdown",
   "id": "ab1a8580",
   "metadata": {},
   "source": [
    "#### Syntax of lambda function\n",
    "\n",
    "#### lambda arguments: expression\n",
    "\n",
    "lambda: The lambda keyword is used to define a lambda function.\n",
    "\n",
    "arguments: These are the input parameters or arguments that the lambda function takes.\n",
    "\n",
    "expression: This is the single expression or operation that the lambda function performs"
   ]
  },
  {
   "cell_type": "markdown",
   "id": "59a9c4b4",
   "metadata": {},
   "source": [
    "### Use Cases:\n",
    "\n",
    "Lambda functions are often used in scenarios where a small, temporary function is required for a short period of time. Common use cases include:\n",
    "\n",
    "Passing to Higher-Order Functions: Lambda functions are often passed as arguments to higher-order functions like map, filter, and sorted.\n",
    "\n",
    "Simple Data Transformations: When you need to apply a simple transformation or operation to elements of a list or collection.\n",
    "\n",
    "Sorting and Filtering: Lambda functions are useful for custom sorting and filtering operations."
   ]
  },
  {
   "cell_type": "markdown",
   "id": "11d20374",
   "metadata": {},
   "source": [
    "### Differences between Lambda and Regular Functions:\n",
    "\n",
    "### Name:\n",
    "Lambda functions are anonymous and do not have a name, while regular functions are defined with a name using the def keyword.\n",
    "\n",
    "### Syntax:\n",
    "Lambda functions have a simpler syntax with a single expression, whereas regular functions can have multiple expressions and statements.\n",
    "\n",
    "### Size:\n",
    "Lambda functions are typically used for small, one-liner operations, while regular functions can be more complex with multiple statements.\n",
    "\n",
    "### Higher-Order Functions:\n",
    "\n",
    "Higher-order functions are functions that can take one or more functions as arguments or return a function as their result. They enable functional programming concepts like mapping, filtering, and reducing."
   ]
  },
  {
   "cell_type": "code",
   "execution_count": 1,
   "id": "b7f5180b",
   "metadata": {},
   "outputs": [
    {
     "name": "stdout",
     "output_type": "stream",
     "text": [
      "7\n"
     ]
    }
   ],
   "source": [
    "# addition\n",
    "add = lambda x, y: x + y\n",
    "result = add(3, 4)\n",
    "print(result)  # Output: 7"
   ]
  },
  {
   "cell_type": "code",
   "execution_count": 12,
   "id": "434e09e2",
   "metadata": {},
   "outputs": [
    {
     "name": "stdout",
     "output_type": "stream",
     "text": [
      "[ 2  5 -3 -4  3]\n"
     ]
    }
   ],
   "source": [
    "import numpy as np\n",
    "\n",
    "def sub(x,y):\n",
    "    print(x-y)\n",
    "sub(np.random.randint(0,10,5),4)    "
   ]
  },
  {
   "cell_type": "code",
   "execution_count": 2,
   "id": "8e405c62",
   "metadata": {},
   "outputs": [
    {
     "name": "stdout",
     "output_type": "stream",
     "text": [
      "banana\n"
     ]
    }
   ],
   "source": [
    "# long words\n",
    "words = [\"apple\", \"banana\", \"cherry\", \"date\"]\n",
    "longest_word = max(words, key=lambda x: len(x))\n",
    "print(longest_word)  # Output: \"banana\""
   ]
  },
  {
   "cell_type": "code",
   "execution_count": 10,
   "id": "7067d243",
   "metadata": {},
   "outputs": [
    {
     "name": "stdout",
     "output_type": "stream",
     "text": [
      "99765\n"
     ]
    }
   ],
   "source": [
    "words=['12','45','677','99765','7890','34568']\n",
    "long_word=max(words, key=lambda x: len(x))\n",
    "print(long_word)"
   ]
  },
  {
   "cell_type": "code",
   "execution_count": 9,
   "id": "5a108989",
   "metadata": {},
   "outputs": [
    {
     "name": "stdout",
     "output_type": "stream",
     "text": [
      "42\n"
     ]
    }
   ],
   "source": [
    "# checking for polynomial\n",
    "polynomial = lambda x: x**2 + 3*x + 2\n",
    "result = polynomial(5)\n",
    "print(result)  # Output: 42"
   ]
  },
  {
   "cell_type": "code",
   "execution_count": 1,
   "id": "d3d186bd",
   "metadata": {},
   "outputs": [
    {
     "name": "stdout",
     "output_type": "stream",
     "text": [
      "[1, 4, 9, 16, 25]\n"
     ]
    }
   ],
   "source": [
    "# Example 1: Using lambda with map to square a list of numbers\n",
    "numbers = [1, 2, 3, 4, 5]\n",
    "squared = list(map(lambda x: x**2, numbers))\n",
    "print(squared)  # Output: [1, 4, 9, 16, 25]"
   ]
  },
  {
   "cell_type": "code",
   "execution_count": 2,
   "id": "a720e185",
   "metadata": {},
   "outputs": [
    {
     "name": "stdout",
     "output_type": "stream",
     "text": [
      "[2, 4]\n"
     ]
    }
   ],
   "source": [
    "# Example 2: Using lambda with filter to get even numbers from a list\n",
    "numbers = [1, 2, 3, 4, 5]\n",
    "even_numbers = list(filter(lambda x: x % 2 == 0, numbers))\n",
    "print(even_numbers)  # Output: [2, 4]"
   ]
  },
  {
   "cell_type": "code",
   "execution_count": 3,
   "id": "6ec56eb8",
   "metadata": {},
   "outputs": [
    {
     "name": "stdout",
     "output_type": "stream",
     "text": [
      "[(3, 3), (2, 4), (1, 5)]\n"
     ]
    }
   ],
   "source": [
    "# Example 3: Using lambda with sorted to sort a list of tuples by the second element\n",
    "points = [(2, 4), (1, 5), (3, 3)]\n",
    "sorted_points = sorted(points, key=lambda x: x[1])\n",
    "print(sorted_points)  # Output: [(3, 3), (2, 4), (1, 5)]\n"
   ]
  },
  {
   "cell_type": "code",
   "execution_count": null,
   "id": "e7c7fa64",
   "metadata": {},
   "outputs": [],
   "source": []
  }
 ],
 "metadata": {
  "kernelspec": {
   "display_name": "Python 3 (ipykernel)",
   "language": "python",
   "name": "python3"
  },
  "language_info": {
   "codemirror_mode": {
    "name": "ipython",
    "version": 3
   },
   "file_extension": ".py",
   "mimetype": "text/x-python",
   "name": "python",
   "nbconvert_exporter": "python",
   "pygments_lexer": "ipython3",
   "version": "3.9.13"
  }
 },
 "nbformat": 4,
 "nbformat_minor": 5
}
