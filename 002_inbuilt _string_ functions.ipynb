{
 "cells": [
  {
   "cell_type": "markdown",
   "id": "373fb715",
   "metadata": {},
   "source": [
    "# String Functions"
   ]
  },
  {
   "cell_type": "code",
   "execution_count": 14,
   "id": "be772b5e",
   "metadata": {},
   "outputs": [
    {
     "name": "stdout",
     "output_type": "stream",
     "text": [
      "13\n"
     ]
    }
   ],
   "source": [
    "# Example 1: len() - Returns the length (number of characters) of a string.\n",
    "text = \"Hello, world!\"\n",
    "length = len(text)\n",
    "print(length)  # Output: 13"
   ]
  },
  {
   "cell_type": "code",
   "execution_count": 15,
   "id": "a6595089",
   "metadata": {},
   "outputs": [
    {
     "name": "stdout",
     "output_type": "stream",
     "text": [
      "HELLO\n"
     ]
    }
   ],
   "source": [
    "# Example 2: str.upper() - Converts a string to uppercase.\n",
    "text = \"Hello\"\n",
    "upper_text = text.upper()\n",
    "print(upper_text)  # Output: 'HELLO'"
   ]
  },
  {
   "cell_type": "code",
   "execution_count": 16,
   "id": "b928856e",
   "metadata": {},
   "outputs": [
    {
     "name": "stdout",
     "output_type": "stream",
     "text": [
      "hello\n"
     ]
    }
   ],
   "source": [
    "# Example 3: str.lower() - Converts a string to lowercase.\n",
    "text = \"Hello\"\n",
    "lower_text = text.lower()\n",
    "print(lower_text)  # Output: 'hello'"
   ]
  },
  {
   "cell_type": "code",
   "execution_count": 17,
   "id": "188c80a2",
   "metadata": {},
   "outputs": [
    {
     "name": "stdout",
     "output_type": "stream",
     "text": [
      "Hello, world!\n"
     ]
    }
   ],
   "source": [
    "# Example 4: str.capitalize() - Capitalizes the first character of a string.\n",
    "text = \"hello, world!\"\n",
    "capitalized_text = text.capitalize()\n",
    "print(capitalized_text)  # Output: 'Hello, world!'"
   ]
  },
  {
   "cell_type": "code",
   "execution_count": 18,
   "id": "c17c5c0a",
   "metadata": {},
   "outputs": [
    {
     "name": "stdout",
     "output_type": "stream",
     "text": [
      "Hello World\n"
     ]
    }
   ],
   "source": [
    "# Example 5: str.title() - Converts the first character of each word to uppercase.\n",
    "text = \"hello world\"\n",
    "title_text = text.title()\n",
    "print(title_text)  # Output: 'Hello World'"
   ]
  },
  {
   "cell_type": "code",
   "execution_count": 19,
   "id": "3b750191",
   "metadata": {},
   "outputs": [
    {
     "name": "stdout",
     "output_type": "stream",
     "text": [
      "Hello, world!\n"
     ]
    }
   ],
   "source": [
    "# Example 6: str.strip() - Removes leading and trailing whitespace characters from a string.\n",
    "text = \"   Hello, world!   \"\n",
    "stripped_text = text.strip()\n",
    "print(stripped_text)  # Output: 'Hello, world!'"
   ]
  },
  {
   "cell_type": "code",
   "execution_count": 20,
   "id": "5d807f5a",
   "metadata": {},
   "outputs": [
    {
     "name": "stdout",
     "output_type": "stream",
     "text": [
      "Hello, Python!\n"
     ]
    }
   ],
   "source": [
    "# Example 7: str.replace() - Replaces a substring with another substring in a string.\n",
    "text = \"Hello, world!\"\n",
    "replaced_text = text.replace(\"world\", \"Python\")\n",
    "print(replaced_text)  # Output: 'Hello, Python!'"
   ]
  },
  {
   "cell_type": "code",
   "execution_count": 21,
   "id": "4b295ed7",
   "metadata": {},
   "outputs": [
    {
     "name": "stdout",
     "output_type": "stream",
     "text": [
      "['apple', 'banana', 'cherry']\n"
     ]
    }
   ],
   "source": [
    "# Example 8: str.split() - Splits a string into a list of substrings based on a delimiter.\n",
    "text = \"apple,banana,cherry\"\n",
    "fruits = text.split(\",\")\n",
    "print(fruits)  # Output: ['apple', 'banana', 'cherry']"
   ]
  },
  {
   "cell_type": "code",
   "execution_count": 22,
   "id": "96ece0e0",
   "metadata": {},
   "outputs": [
    {
     "name": "stdout",
     "output_type": "stream",
     "text": [
      "apple, banana, cherry\n"
     ]
    }
   ],
   "source": [
    "# Example 9: str.join() - Joins a list of strings into a single string using the specified delimiter.\n",
    "fruits = ['apple', 'banana', 'cherry']\n",
    "text = \", \".join(fruits)\n",
    "print(text)  # Output: 'apple, banana, cherry'"
   ]
  },
  {
   "cell_type": "code",
   "execution_count": 23,
   "id": "c86c73c5",
   "metadata": {},
   "outputs": [
    {
     "name": "stdout",
     "output_type": "stream",
     "text": [
      "7\n"
     ]
    }
   ],
   "source": [
    "# Example 10: str.find() - Searches for a substring in a string and returns the index of the first occurrence (or -1 if not found).\n",
    "text = \"Hello, world!\"\n",
    "index = text.find(\"world\")\n",
    "print(index)  # Output: 7"
   ]
  },
  {
   "cell_type": "code",
   "execution_count": 24,
   "id": "c85a5f16",
   "metadata": {},
   "outputs": [
    {
     "name": "stdout",
     "output_type": "stream",
     "text": [
      "True\n"
     ]
    }
   ],
   "source": [
    "# Example 11: str.startswith() - Checks if a string starts with a specified prefix and returns True or False.\n",
    "text = \"Hello, world!\"\n",
    "starts_with_hello = text.startswith(\"Hello\")\n",
    "print(starts_with_hello)  # Output: True"
   ]
  },
  {
   "cell_type": "code",
   "execution_count": 25,
   "id": "c6d14cc7",
   "metadata": {},
   "outputs": [
    {
     "name": "stdout",
     "output_type": "stream",
     "text": [
      "True\n"
     ]
    }
   ],
   "source": [
    "# Example 12: str.endswith() - Checks if a string ends with a specified suffix and returns True or False.\n",
    "text = \"Hello, world!\"\n",
    "ends_with_world = text.endswith(\"world!\")\n",
    "print(ends_with_world)  # Output: True"
   ]
  }
 ],
 "metadata": {
  "kernelspec": {
   "display_name": "Python 3 (ipykernel)",
   "language": "python",
   "name": "python3"
  },
  "language_info": {
   "codemirror_mode": {
    "name": "ipython",
    "version": 3
   },
   "file_extension": ".py",
   "mimetype": "text/x-python",
   "name": "python",
   "nbconvert_exporter": "python",
   "pygments_lexer": "ipython3",
   "version": "3.9.13"
  }
 },
 "nbformat": 4,
 "nbformat_minor": 5
}
