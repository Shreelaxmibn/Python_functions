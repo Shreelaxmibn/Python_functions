{
 "cells": [
  {
   "cell_type": "markdown",
   "id": "4495f10f",
   "metadata": {},
   "source": [
    "Python provides a wide range of built-in functions that cover various tasks, from mathematical operations to working with data structures and manipulating strings. Here are some common built-in functions in Python"
   ]
  },
  {
   "cell_type": "markdown",
   "id": "dc27e277",
   "metadata": {},
   "source": [
    "# maths functions"
   ]
  },
  {
   "cell_type": "code",
   "execution_count": 1,
   "id": "9fd5bae3",
   "metadata": {},
   "outputs": [
    {
     "data": {
      "text/plain": [
       "5"
      ]
     },
     "execution_count": 1,
     "metadata": {},
     "output_type": "execute_result"
    }
   ],
   "source": [
    "abs(-5)  # Output: 5\n"
   ]
  },
  {
   "cell_type": "code",
   "execution_count": 2,
   "id": "44215dbe",
   "metadata": {},
   "outputs": [
    {
     "data": {
      "text/plain": [
       "9"
      ]
     },
     "execution_count": 2,
     "metadata": {},
     "output_type": "execute_result"
    }
   ],
   "source": [
    "max([3, 1, 4, 1, 5, 9, 2, 6, 5])  # Output: 9\n"
   ]
  },
  {
   "cell_type": "code",
   "execution_count": 3,
   "id": "5e64cb95",
   "metadata": {},
   "outputs": [
    {
     "data": {
      "text/plain": [
       "1"
      ]
     },
     "execution_count": 3,
     "metadata": {},
     "output_type": "execute_result"
    }
   ],
   "source": [
    "min([3, 1, 4, 1, 5, 9, 2, 6, 5])  # Output: 1\n"
   ]
  },
  {
   "cell_type": "code",
   "execution_count": 4,
   "id": "df28a131",
   "metadata": {},
   "outputs": [
    {
     "data": {
      "text/plain": [
       "15"
      ]
     },
     "execution_count": 4,
     "metadata": {},
     "output_type": "execute_result"
    }
   ],
   "source": [
    "sum([1, 2, 3, 4, 5])  # Output: 15\n"
   ]
  },
  {
   "cell_type": "code",
   "execution_count": 5,
   "id": "146d478f",
   "metadata": {},
   "outputs": [
    {
     "data": {
      "text/plain": [
       "42"
      ]
     },
     "execution_count": 5,
     "metadata": {},
     "output_type": "execute_result"
    }
   ],
   "source": [
    "int('42')  # Output: 42\n"
   ]
  },
  {
   "cell_type": "code",
   "execution_count": 6,
   "id": "1385aded",
   "metadata": {},
   "outputs": [
    {
     "data": {
      "text/plain": [
       "42"
      ]
     },
     "execution_count": 6,
     "metadata": {},
     "output_type": "execute_result"
    }
   ],
   "source": [
    "int('42')  # Output: 42\n"
   ]
  },
  {
   "cell_type": "code",
   "execution_count": 7,
   "id": "681ff498",
   "metadata": {},
   "outputs": [
    {
     "data": {
      "text/plain": [
       "'42'"
      ]
     },
     "execution_count": 7,
     "metadata": {},
     "output_type": "execute_result"
    }
   ],
   "source": [
    "str(42)  # Output: '42'\n"
   ]
  },
  {
   "cell_type": "markdown",
   "id": "99d7c00e",
   "metadata": {},
   "source": [
    "# List and Sequence Functions"
   ]
  },
  {
   "cell_type": "code",
   "execution_count": 26,
   "id": "c42e32cd",
   "metadata": {},
   "outputs": [
    {
     "name": "stdout",
     "output_type": "stream",
     "text": [
      "5\n"
     ]
    }
   ],
   "source": [
    "# Example 1: len() - Returns the length (number of elements) of a list.\n",
    "numbers = [1, 2, 3, 4, 5]\n",
    "length = len(numbers)\n",
    "print(length)  # Output: 5"
   ]
  },
  {
   "cell_type": "code",
   "execution_count": 27,
   "id": "090ac646",
   "metadata": {},
   "outputs": [
    {
     "name": "stdout",
     "output_type": "stream",
     "text": [
      "9\n"
     ]
    }
   ],
   "source": [
    "# Example 2: max() - Returns the maximum value in a list.\n",
    "numbers = [3, 1, 4, 1, 5, 9, 2, 6, 5]\n",
    "max_value = max(numbers)\n",
    "print(max_value)  # Output: 9"
   ]
  },
  {
   "cell_type": "code",
   "execution_count": 28,
   "id": "37009ee9",
   "metadata": {},
   "outputs": [
    {
     "name": "stdout",
     "output_type": "stream",
     "text": [
      "1\n"
     ]
    }
   ],
   "source": [
    "# Example 3: min() - Returns the minimum value in a list.\n",
    "numbers = [3, 1, 4, 1, 5, 9, 2, 6, 5]\n",
    "min_value = min(numbers)\n",
    "print(min_value)  # Output: 1"
   ]
  },
  {
   "cell_type": "code",
   "execution_count": 29,
   "id": "fb35233b",
   "metadata": {},
   "outputs": [
    {
     "name": "stdout",
     "output_type": "stream",
     "text": [
      "15\n"
     ]
    }
   ],
   "source": [
    "# Example 4: sum() - Returns the sum of all elements in a list.\n",
    "numbers = [1, 2, 3, 4, 5]\n",
    "total = sum(numbers)\n",
    "print(total)  # Output: 15"
   ]
  },
  {
   "cell_type": "code",
   "execution_count": 30,
   "id": "c7e35272",
   "metadata": {},
   "outputs": [
    {
     "name": "stdout",
     "output_type": "stream",
     "text": [
      "[1, 1, 2, 3, 4, 5, 5, 6, 9]\n"
     ]
    }
   ],
   "source": [
    "# Example 5: sorted() - Returns a new sorted list from the elements of a list.\n",
    "numbers = [3, 1, 4, 1, 5, 9, 2, 6, 5]\n",
    "sorted_numbers = sorted(numbers)\n",
    "print(sorted_numbers)  # Output: [1, 1, 2, 3, 4, 5, 5, 6, 9]"
   ]
  },
  {
   "cell_type": "code",
   "execution_count": 31,
   "id": "6fe7ac1a",
   "metadata": {},
   "outputs": [
    {
     "name": "stdout",
     "output_type": "stream",
     "text": [
      "[1, 2, 3, 4, 5]\n"
     ]
    }
   ],
   "source": [
    "# Example 6: list() - Converts a sequence (e.g., tuple) to a list.\n",
    "tuple_numbers = (1, 2, 3, 4, 5)\n",
    "list_numbers = list(tuple_numbers)\n",
    "print(list_numbers)  # Output: [1, 2, 3, 4, 5]"
   ]
  },
  {
   "cell_type": "code",
   "execution_count": 32,
   "id": "09643c70",
   "metadata": {},
   "outputs": [
    {
     "name": "stdout",
     "output_type": "stream",
     "text": [
      "True\n"
     ]
    }
   ],
   "source": [
    "# Example 7: any() - Returns True if at least one element in an iterable is True.\n",
    "bool_values = [False, True, False]\n",
    "has_true = any(bool_values)\n",
    "print(has_true)  # Output: True"
   ]
  },
  {
   "cell_type": "code",
   "execution_count": 33,
   "id": "b1b83232",
   "metadata": {},
   "outputs": [
    {
     "name": "stdout",
     "output_type": "stream",
     "text": [
      "False\n"
     ]
    }
   ],
   "source": [
    "# Example 8: all() - Returns True if all elements in an iterable are True.\n",
    "bool_values = [False, True, False]\n",
    "all_true = all(bool_values)\n",
    "print(all_true)  # Output: False"
   ]
  },
  {
   "cell_type": "code",
   "execution_count": 36,
   "id": "ecd1a0e3",
   "metadata": {},
   "outputs": [
    {
     "name": "stdout",
     "output_type": "stream",
     "text": [
      "[5, 4, 3, 2, 1]\n"
     ]
    }
   ],
   "source": [
    "# Example 9: reversed() - Returns a reverse iterator for a sequence.\n",
    "numbers = [1, 2, 3, 4, 5]\n",
    "reversed_numbers = list(reversed(numbers))\n",
    "print(reversed_numbers)  # Output: [5, 4, 3, 2, 1]"
   ]
  },
  {
   "cell_type": "code",
   "execution_count": 37,
   "id": "1cf0a773",
   "metadata": {},
   "outputs": [
    {
     "name": "stdout",
     "output_type": "stream",
     "text": [
      "0 apple\n",
      "1 banana\n",
      "2 cherry\n"
     ]
    }
   ],
   "source": [
    "# Example 10: enumerate() - Adds a counter to an iterable and returns an enumerate object.\n",
    "fruits = [\"apple\", \"banana\", \"cherry\"]\n",
    "for index, fruit in enumerate(fruits):\n",
    "    print(index, fruit)\n",
    "# Output:\n",
    "# 0 apple\n",
    "# 1 banana\n",
    "# 2 cherry"
   ]
  },
  {
   "cell_type": "code",
   "execution_count": null,
   "id": "ebce3682",
   "metadata": {},
   "outputs": [],
   "source": []
  }
 ],
 "metadata": {
  "kernelspec": {
   "display_name": "Python 3 (ipykernel)",
   "language": "python",
   "name": "python3"
  },
  "language_info": {
   "codemirror_mode": {
    "name": "ipython",
    "version": 3
   },
   "file_extension": ".py",
   "mimetype": "text/x-python",
   "name": "python",
   "nbconvert_exporter": "python",
   "pygments_lexer": "ipython3",
   "version": "3.9.13"
  }
 },
 "nbformat": 4,
 "nbformat_minor": 5
}
